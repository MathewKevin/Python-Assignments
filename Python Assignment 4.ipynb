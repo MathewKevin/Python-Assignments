{
 "cells": [
  {
   "cell_type": "markdown",
   "metadata": {},
   "source": [
    "<img src = 'https://user-images.githubusercontent.com/53637541/92696829-130d2b80-f368-11ea-96e0-e469175f3b1f.jpg' width=\"500\" height=\"150\">"
   ]
  },
  {
   "cell_type": "markdown",
   "metadata": {},
   "source": [
    "# Python Assignment - 4"
   ]
  },
  {
   "cell_type": "markdown",
   "metadata": {},
   "source": [
    "__1.1 Write a Python Program(with class concepts) to find the area of the triangle using the below\n",
    "formula.__\n",
    "\n",
    "__area = (s*(s-a)*(s-b)*(s-c)) ** 0.5__\n",
    "\n",
    "__Function to take the length of the sides of triangle from user should be defined in the parent\n",
    "class and function to calculate the area should be defined in subclass.__"
   ]
  },
  {
   "cell_type": "code",
   "execution_count": 3,
   "metadata": {},
   "outputs": [
    {
     "name": "stdout",
     "output_type": "stream",
     "text": [
      "Enter first side: 5\n",
      "Enter second side: 6\n",
      "Enter third side: 7\n",
      "Area of traingle is 14.696938456699069\n"
     ]
    }
   ],
   "source": [
    "class Parent:\n",
    "    def __init__(self,a,b,c):\n",
    "        self.a = a\n",
    "        self.b = b\n",
    "        self.c = c\n",
    "a = float(input(\"Enter first side: \"))\n",
    "b = float(input(\"Enter second side: \"))\n",
    "c = float(input(\"Enter third side: \"))\n",
    "\n",
    "class Child(Parent):\n",
    "    def __init__(self,a,b,c):\n",
    "        super().__init__(a,b,c)\n",
    "\n",
    "    def get_area(self):\n",
    "        s = (a + b + c) / 2\n",
    "        val = (s*(s-a)*(s-b)*(s-c)) ** 0.5        \n",
    "        return val\n",
    "    \n",
    "result = Child(a,b,c)\n",
    "print(\"Area of traingle is\", result.get_area())"
   ]
  },
  {
   "cell_type": "markdown",
   "metadata": {},
   "source": [
    "__1.2 Write a function filter_long_words() that takes a list of words and an integer n and returns\n",
    "the list of words that are longer than n.__"
   ]
  },
  {
   "cell_type": "code",
   "execution_count": 4,
   "metadata": {},
   "outputs": [
    {
     "name": "stdout",
     "output_type": "stream",
     "text": [
      "Enter any sentence :Ineuron has some really good trainers\n",
      "Enter a number: 3\n",
      "List of words that are longer than 3 in the sentence Ineuron has some really good trainers are ['Ineuron', 'some', 'really', 'good', 'trainers']\n"
     ]
    }
   ],
   "source": [
    "def filter_long_words(string, num):\n",
    "    words = []\n",
    "    text = string.split(\" \")\n",
    "    for i in text:\n",
    "        if len(i) > num:\n",
    "            words.append(i)\n",
    "    return words\n",
    "\n",
    "#Getting the input from user\n",
    "inp_word = str(input(\"Enter any sentence :\"))\n",
    "inp_num = int(input(\"Enter a number: \"))\n",
    "#Display the output\n",
    "print(\"List of words that are longer than\", inp_num, \"in the sentence\", inp_word,\"are\", filter_long_words(inp_word,inp_num))"
   ]
  },
  {
   "cell_type": "markdown",
   "metadata": {},
   "source": [
    "__2.1 Write a Python program using function concept that maps list of words into a list of integers\n",
    "representing the lengths of the corresponding words.__\n",
    "\n",
    "__Hint: If a list [ ab,cde,erty] is passed on to the python function output should come as [2,3,4]__\n",
    "\n",
    "__Here 2,3 and 4 are the lengths of the words in the list.__"
   ]
  },
  {
   "cell_type": "code",
   "execution_count": 8,
   "metadata": {},
   "outputs": [
    {
     "name": "stdout",
     "output_type": "stream",
     "text": [
      "[5, 2, 1, 4, 3]\n"
     ]
    }
   ],
   "source": [
    "def wordlength(words):\n",
    "    num_list = []\n",
    "    text = words.split(\" \")\n",
    "    for i in text:\n",
    "        num_list.append(len(i))\n",
    "    return num_list\n",
    "\n",
    "print(wordlength(\"Kevin is a good boy\"))"
   ]
  },
  {
   "cell_type": "markdown",
   "metadata": {},
   "source": [
    "__2.2 Write a Python function which takes a character (i.e. a string of length 1) and returns True if\n",
    "it is a vowel, False otherwise.__"
   ]
  },
  {
   "cell_type": "code",
   "execution_count": 15,
   "metadata": {},
   "outputs": [
    {
     "name": "stdout",
     "output_type": "stream",
     "text": [
      "Enter a single character: a\n",
      "True\n"
     ]
    }
   ],
   "source": [
    "def vowelfunction(onestring):\n",
    "    vowels = [\"a\",\"e\",\"i\",\"o\",\"u\"]\n",
    "    if onestring in vowels:\n",
    "        return True\n",
    "    else:\n",
    "        return False\n",
    "word = str(input(\"Enter a single character: \"))\n",
    "print(vowelfunction(word))"
   ]
  }
 ],
 "metadata": {
  "kernelspec": {
   "display_name": "Python 3",
   "language": "python",
   "name": "python3"
  },
  "language_info": {
   "codemirror_mode": {
    "name": "ipython",
    "version": 3
   },
   "file_extension": ".py",
   "mimetype": "text/x-python",
   "name": "python",
   "nbconvert_exporter": "python",
   "pygments_lexer": "ipython3",
   "version": "3.7.4"
  }
 },
 "nbformat": 4,
 "nbformat_minor": 2
}
