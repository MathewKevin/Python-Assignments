{
 "cells": [
  {
   "cell_type": "markdown",
   "metadata": {},
   "source": [
    "<img src = 'https://user-images.githubusercontent.com/53637541/92696829-130d2b80-f368-11ea-96e0-e469175f3b1f.jpg' width=\"500\" height=\"150\">"
   ]
  },
  {
   "cell_type": "markdown",
   "metadata": {},
   "source": [
    "# Pyhton Assignment - 2"
   ]
  },
  {
   "cell_type": "markdown",
   "metadata": {},
   "source": [
    "__1.Create the below pattern using nested for loop in Python.__\n",
    "\n",
    "__*__\n",
    "\n",
    "__* *__\n",
    "\n",
    "__* * *__\n",
    "\n",
    "__* * * *__\n",
    "\n",
    "__* * * * *__\n",
    "\n",
    "__* * * *__\n",
    "\n",
    "__* * *__\n",
    "\n",
    "__* *__\n",
    "\n",
    "__*__"
   ]
  },
  {
   "cell_type": "code",
   "execution_count": 5,
   "metadata": {},
   "outputs": [
    {
     "name": "stdout",
     "output_type": "stream",
     "text": [
      "*\n",
      "**\n",
      "***\n",
      "****\n",
      "*****\n",
      "****\n",
      "***\n",
      "**\n",
      "*\n"
     ]
    }
   ],
   "source": [
    "#creating a function\n",
    "def mypattern(x):\n",
    "    #creating a nested for loop\n",
    "    #Upper pattern\n",
    "    for i in range(x):\n",
    "        for j in range(0, i+1):\n",
    "            print(\"*\", end = \"\")\n",
    "        print()\n",
    "    #Lower pattern\n",
    "    for i in range(1,x):\n",
    "        for j in range(i,x):\n",
    "            print(\"*\", end = \"\")\n",
    "        print()\n",
    "mypattern(5)"
   ]
  },
  {
   "cell_type": "markdown",
   "metadata": {},
   "source": [
    "__2. Write a Python program to reverse a word after accepting the input from the user.__\n",
    "\n",
    "__Sample Output:__\n",
    "    \n",
    "__Input word: ineuron__\n",
    "\n",
    "__Output: norueni__"
   ]
  },
  {
   "cell_type": "code",
   "execution_count": 4,
   "metadata": {},
   "outputs": [
    {
     "name": "stdout",
     "output_type": "stream",
     "text": [
      "Enter a word: ineuron\n",
      "Input word: ineuron\n",
      "Output:  norueni\n"
     ]
    }
   ],
   "source": [
    "#Taking input from the user\n",
    "word = str(input(\"Enter a word: \"))\n",
    "\n",
    "#Reversing the word\n",
    "result = word[::-1]\n",
    "\n",
    "#display the output\n",
    "print(\"Input word:\", word)\n",
    "print(\"Output: \", result)"
   ]
  }
 ],
 "metadata": {
  "kernelspec": {
   "display_name": "Python 3",
   "language": "python",
   "name": "python3"
  },
  "language_info": {
   "codemirror_mode": {
    "name": "ipython",
    "version": 3
   },
   "file_extension": ".py",
   "mimetype": "text/x-python",
   "name": "python",
   "nbconvert_exporter": "python",
   "pygments_lexer": "ipython3",
   "version": "3.7.4"
  }
 },
 "nbformat": 4,
 "nbformat_minor": 2
}
