{
 "cells": [
  {
   "cell_type": "markdown",
   "metadata": {},
   "source": [
    "<img src = 'https://user-images.githubusercontent.com/53637541/92696829-130d2b80-f368-11ea-96e0-e469175f3b1f.jpg' width=\"500\" height=\"150\">"
   ]
  },
  {
   "cell_type": "markdown",
   "metadata": {},
   "source": [
    "# Python Assignment - 3"
   ]
  },
  {
   "cell_type": "markdown",
   "metadata": {},
   "source": [
    "__1.1 Write a Python Program to implement your own myreduce() function which works exactly\n",
    "like Python's built-in function reduce()__"
   ]
  },
  {
   "cell_type": "code",
   "execution_count": 1,
   "metadata": {},
   "outputs": [
    {
     "name": "stdout",
     "output_type": "stream",
     "text": [
      "30\n",
      "60\n",
      "100\n",
      "150\n",
      "Using my own reduce function:  150\n"
     ]
    }
   ],
   "source": [
    "#Creating a function\n",
    "def myreduce(myfunction, mylist):\n",
    "    x = mylist[0]\n",
    "    \n",
    "    for i in range(1, len(mylist)):\n",
    "        x = myfunction(x, mylist[i])\n",
    "        print(x)\n",
    "    return(x)    \n",
    "\n",
    "def add(x,y):\n",
    "    return x+y\n",
    "\n",
    "sample_list = [10,20,30,40,50]\n",
    "print(\"Using my own reduce function: \", myreduce(add, sample_list))\n",
    "            "
   ]
  },
  {
   "cell_type": "markdown",
   "metadata": {},
   "source": [
    "__1.2 Write a Python program to implement your own myfilter() function which works exactly\n",
    "like Python's built-in function filter()__"
   ]
  },
  {
   "cell_type": "code",
   "execution_count": 2,
   "metadata": {},
   "outputs": [
    {
     "name": "stdout",
     "output_type": "stream",
     "text": [
      "The vowels in ['i', 'n', 'e', 'u', 'r', 'o', 'n'] are: \n",
      "i\n",
      "e\n",
      "u\n",
      "o\n",
      "Even numbers in [1, 2, 3, 4, 5, 6] are: \n",
      "[2, 4, 6]\n"
     ]
    }
   ],
   "source": [
    "#Creating a function\n",
    "def myfilter(myfunction, mydata):\n",
    "    result = []\n",
    "    for i in mydata:\n",
    "        if myfunction(i):\n",
    "            result.append(i)\n",
    "    return result\n",
    "\n",
    "#Creating a function to separate vowels\n",
    "def vowels(x):\n",
    "    vow = [\"a\", \"e\", \"i\", \"o\", \"u\"]\n",
    "    if x in vow:\n",
    "        return True\n",
    "    else:\n",
    "        return False\n",
    "\n",
    "#display the vowels in a string\n",
    "name = [\"i\",\"n\",\"e\",\"u\",\"r\",\"o\",\"n\"]\n",
    "output = myfilter(vowels,name)\n",
    "print(\"The vowels in\", name, \"are: \")\n",
    "for i in output:\n",
    "    print(i)\n",
    "    \n",
    "    \n",
    "#Display even number in a sequence\n",
    "seq = [1,2,3,4,5,6]\n",
    "output = myfilter(lambda x: x % 2 == 0, seq)\n",
    "print(\"Even numbers in\", seq, \"are: \")\n",
    "print(list(output))"
   ]
  },
  {
   "cell_type": "markdown",
   "metadata": {},
   "source": [
    "__2.Implement List comprehensions to produce the following lists.__\n",
    "\n",
    "__Write List comprehensions to produce the following Lists__\n",
    "\n",
    "['x', 'xx', 'xxx', 'xxxx', 'y', 'yy', 'yyy', 'yyyy', 'z', 'zz', 'zzz', 'zzzz']\n",
    "\n",
    "['x', 'y', 'z', 'xx', 'yy', 'zz', 'xxx', 'yyy', 'zzz', 'xxxx', 'yyyy', 'zzzz']\n",
    "\n",
    "[[2], [3], [4], [3], [4], [5], [4], [5], [6]] [[2, 3, 4, 5], [3, 4, 5, 6],[4, 5, 6, 7], [5, 6, 7, 8]]\n",
    "\n",
    "\n",
    "[(1, 1), (2, 1), (3, 1), (1, 2), (2, 2), (3, 2), (1, 3), (2, 3), (3, 3)]"
   ]
  },
  {
   "cell_type": "code",
   "execution_count": 3,
   "metadata": {},
   "outputs": [
    {
     "data": {
      "text/plain": [
       "['x', 'xx', 'xxx', 'xxxx', 'y', 'yy', 'yyy', 'yyyy', 'z', 'zz', 'zzz', 'zzzz']"
      ]
     },
     "execution_count": 3,
     "metadata": {},
     "output_type": "execute_result"
    }
   ],
   "source": [
    "[x*i for x in \"xyz\" for i in range(1,5)]"
   ]
  },
  {
   "cell_type": "code",
   "execution_count": 4,
   "metadata": {},
   "outputs": [
    {
     "data": {
      "text/plain": [
       "['x', 'y', 'z', 'xx', 'yy', 'zz', 'xxx', 'yyy', 'zzz', 'xxxx', 'yyyy', 'zzzz']"
      ]
     },
     "execution_count": 4,
     "metadata": {},
     "output_type": "execute_result"
    }
   ],
   "source": [
    "[x*i for i in range(1,5) for x in \"xyz\"]"
   ]
  },
  {
   "cell_type": "code",
   "execution_count": 5,
   "metadata": {},
   "outputs": [
    {
     "name": "stdout",
     "output_type": "stream",
     "text": [
      "[[2], [3], [4], [3], [4], [5], [4], [5], [6]] [[2, 3, 4, 5], [3, 4, 5, 6], [4, 5, 6, 7], [5, 6, 7, 8]]\n"
     ]
    }
   ],
   "source": [
    "res1 = [[x+i] for x in [2,3,4] for i in range(0,3)]\n",
    "res2 = [[x+i for x in [2,3,4,5]] for i in range(0,4)]\n",
    "print(res1, res2)"
   ]
  },
  {
   "cell_type": "code",
   "execution_count": 6,
   "metadata": {},
   "outputs": [
    {
     "data": {
      "text/plain": [
       "[(1, 1), (2, 1), (3, 1), (1, 2), (2, 2), (3, 2), (1, 3), (2, 3), (3, 3)]"
      ]
     },
     "execution_count": 6,
     "metadata": {},
     "output_type": "execute_result"
    }
   ],
   "source": [
    "[(x,y) for y in [1,2,3] for x in [1,2,3]]"
   ]
  }
 ],
 "metadata": {
  "kernelspec": {
   "display_name": "Python 3",
   "language": "python",
   "name": "python3"
  },
  "language_info": {
   "codemirror_mode": {
    "name": "ipython",
    "version": 3
   },
   "file_extension": ".py",
   "mimetype": "text/x-python",
   "name": "python",
   "nbconvert_exporter": "python",
   "pygments_lexer": "ipython3",
   "version": "3.7.4"
  }
 },
 "nbformat": 4,
 "nbformat_minor": 2
}
